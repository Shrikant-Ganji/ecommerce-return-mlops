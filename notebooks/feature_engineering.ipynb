{
 "cells": [
  {
   "cell_type": "code",
   "execution_count": 10,
   "id": "badf507f-2575-494a-9b31-9df78b2d2666",
   "metadata": {},
   "outputs": [],
   "source": [
    "# Import libraries\n",
    "import pandas as pd\n",
    "import numpy as np"
   ]
  },
  {
   "cell_type": "code",
   "execution_count": 12,
   "id": "76d0f25e-9f49-462c-9d36-c2fe18758cb1",
   "metadata": {},
   "outputs": [],
   "source": [
    "# Load processed data\n",
    "train = pd.read_parquet(\"../data/processed/train.parquet\")\n",
    "test = pd.read_parquet(\"../data/processed/test.parquet\")"
   ]
  },
  {
   "cell_type": "code",
   "execution_count": 13,
   "id": "8860b24d-e5a6-476f-b3a4-9e1f9f78d8f3",
   "metadata": {},
   "outputs": [
    {
     "name": "stdout",
     "output_type": "stream",
     "text": [
      "Train shape: (91259, 7)\n",
      "Test shape: (22815, 7)\n",
      "                           order_id order_purchase_timestamp  delivery_delay  \\\n",
      "0  c66d11687a807ceb590246a11aa1bc48      2017-07-12 10:10:23           -13.0   \n",
      "1  8aad27637248090b933a0697be57c443      2018-03-15 15:54:57           -12.0   \n",
      "2  ca8ee1fce14344746b41f8e2d2c1f4bf      2018-03-30 14:48:28           -10.0   \n",
      "3  fdc0c4c2efc395cf5b80b60f573097cd      2017-11-08 21:35:07            -5.0   \n",
      "4  867effa42bd3592c4dbada5a0ebc42bc      2017-06-11 20:27:59           -18.0   \n",
      "\n",
      "   delivery_time  payment_value  product_category_name  is_returned  \n",
      "0            7.0         140.08                     57            0  \n",
      "1           13.0         250.74                     32            0  \n",
      "2           10.0          70.27                     66            0  \n",
      "3           14.0         133.76                     11            0  \n",
      "4            7.0         354.08                     12            0  \n"
     ]
    }
   ],
   "source": [
    "# Quick overview\n",
    "print(\"Train shape:\", train.shape)\n",
    "print(\"Test shape:\", test.shape)\n",
    "print(train.head())"
   ]
  },
  {
   "cell_type": "markdown",
   "id": "28e0b178-746e-4db6-b6d7-4d1ed5c1c51c",
   "metadata": {},
   "source": [
    "# Feature Engineering"
   ]
  },
  {
   "cell_type": "code",
   "execution_count": 14,
   "id": "8c8fce13-764b-412e-b23f-d5353ec73226",
   "metadata": {},
   "outputs": [],
   "source": [
    "# 1. Extract purchase hour from order_purchase_timestamp\n",
    "train['order_hour'] = pd.to_datetime(train['order_purchase_timestamp']).dt.hour\n",
    "test['order_hour'] = pd.to_datetime(test['order_purchase_timestamp']).dt.hour"
   ]
  },
  {
   "cell_type": "code",
   "execution_count": null,
   "id": "06b632b8-65cf-4890-9f0c-a0b399ae66ea",
   "metadata": {},
   "outputs": [],
   "source": [
    "# 2. Calculate price per item (assuming 'price' and 'order_item_id' exist or replace accordingly)\n",
    "# Note: If 'price' is not in your features, skip or add if available in raw data\n",
    "# For example, if you merged price info, else comment this out\n",
    "# train['price_per_item'] = train['payment_value'] / train['order_item_id']\n",
    "# test['price_per_item'] = test['payment_value'] / test['order_item_id']"
   ]
  },
  {
   "cell_type": "code",
   "execution_count": 15,
   "id": "adf5ba0c-a72f-4c00-a62c-2114eadbc581",
   "metadata": {},
   "outputs": [],
   "source": [
    "# 3. Additional features (example)\n",
    "# Flag for late delivery (delivery_delay > 0)\n",
    "train['late_delivery_flag'] = (train['delivery_delay'] > 0).astype(int)\n",
    "test['late_delivery_flag'] = (test['delivery_delay'] > 0).astype(int)"
   ]
  },
  {
   "cell_type": "code",
   "execution_count": null,
   "id": "b3f894fc-8298-494f-b611-302b881b4793",
   "metadata": {},
   "outputs": [],
   "source": [
    "# 4. Normalize or scale features if needed (example)\n",
    "# from sklearn.preprocessing import StandardScaler\n",
    "# scaler = StandardScaler()\n",
    "# numeric_features = ['delivery_delay', 'delivery_time', 'payment_value', 'order_hour']\n",
    "# train[numeric_features] = scaler.fit_transform(train[numeric_features])\n",
    "# test[numeric_features] = scaler.transform(test[numeric_features])"
   ]
  },
  {
   "cell_type": "code",
   "execution_count": 17,
   "id": "a0e3b1dc-d2e8-4ba5-843d-780013a6cd51",
   "metadata": {},
   "outputs": [
    {
     "name": "stdout",
     "output_type": "stream",
     "text": [
      "Features used for training:\n",
      "Index(['delivery_delay', 'delivery_time', 'payment_value',\n",
      "       'product_category_name', 'order_hour', 'late_delivery_flag'],\n",
      "      dtype='object')\n",
      "\n",
      "Sample of features data:\n",
      "   delivery_delay  delivery_time  payment_value  product_category_name  \\\n",
      "0           -13.0            7.0         140.08                     57   \n",
      "1           -12.0           13.0         250.74                     32   \n",
      "2           -10.0           10.0          70.27                     66   \n",
      "3            -5.0           14.0         133.76                     11   \n",
      "4           -18.0            7.0         354.08                     12   \n",
      "\n",
      "   order_hour  late_delivery_flag  \n",
      "0          10                   0  \n",
      "1          15                   0  \n",
      "2          14                   0  \n",
      "3          21                   0  \n",
      "4          20                   0  \n"
     ]
    }
   ],
   "source": [
    "# 5. Target and features separation\n",
    "target = 'is_returned'\n",
    "features = train.columns.drop([target, 'order_id', 'order_purchase_timestamp'])  # drop non-features\n",
    "\n",
    "X_train = train[features]\n",
    "y_train = train[target]\n",
    "\n",
    "X_test = test[features]\n",
    "y_test = test[target]\n",
    "\n",
    "print(\"Features used for training:\")\n",
    "print(features)\n",
    "\n",
    "print(\"\\nSample of features data:\")\n",
    "print(X_train.head())"
   ]
  },
  {
   "cell_type": "code",
   "execution_count": 20,
   "id": "3d4d6316-aa26-4b9a-bba7-bc9a24a84dfa",
   "metadata": {},
   "outputs": [
    {
     "name": "stdout",
     "output_type": "stream",
     "text": [
      "✅ Feature engineering complete and data saved.\n"
     ]
    }
   ],
   "source": [
    "# Save engineered features to disk for model training\n",
    "X_train.to_parquet(\"../data/processed/X_train.parquet\", index=False)\n",
    "y_train.to_frame().to_parquet(\"../data/processed/y_train.parquet\", index=False)\n",
    "X_test.to_parquet(\"../data/processed/X_test.parquet\", index=False)\n",
    "y_test.to_frame().to_parquet(\"../data/processed/y_test.parquet\", index=False)\n",
    "\n",
    "print(\"✅ Feature engineering complete and data saved.\")"
   ]
  },
  {
   "cell_type": "code",
   "execution_count": null,
   "id": "1bc9c32a-e041-40df-9b04-b6611b4b9c0c",
   "metadata": {},
   "outputs": [],
   "source": []
  }
 ],
 "metadata": {
  "kernelspec": {
   "display_name": "Python 3 (ipykernel)",
   "language": "python",
   "name": "python3"
  },
  "language_info": {
   "codemirror_mode": {
    "name": "ipython",
    "version": 3
   },
   "file_extension": ".py",
   "mimetype": "text/x-python",
   "name": "python",
   "nbconvert_exporter": "python",
   "pygments_lexer": "ipython3",
   "version": "3.12.1"
  }
 },
 "nbformat": 4,
 "nbformat_minor": 5
}
